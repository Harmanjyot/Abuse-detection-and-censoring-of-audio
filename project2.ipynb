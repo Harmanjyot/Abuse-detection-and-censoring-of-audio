{
 "cells": [
  {
   "cell_type": "markdown",
   "id": "84a97943",
   "metadata": {},
   "source": [
    "# Introduction\n",
    "In an increasingly online world, it is getting more and more important to make these virtual spaces safer. People from all age-groups, ethnicities, and races have access to the internet. While social media was designed to connect people, it also has several issues. Hate-speech and toxicity is very prevalent in the online community. Hence, it is very important to control such content so that it does not reach the ears of the naive audience.\n",
    "\n",
    "This application aims to classify any audio as toxic/ abusive/ racist/ hate-speech/ or a normal audio. Furthermore, censoring of any abusive language is also a function that has been included."
   ]
  },
  {
   "cell_type": "code",
   "execution_count": 1,
   "id": "f5b901f2",
   "metadata": {},
   "outputs": [],
   "source": [
    "#Imports\n",
    "\n",
    "# import kagglehub #audio-based-violence-detection-dataset I was initially using this dataset for training my own model\n",
    "\n",
    "import librosa\n",
    "import librosa.display\n",
    "import librosa.core\n",
    "import matplotlib.pyplot as plt\n",
    "import numpy as np\n",
    "import pandas as pd\n",
    "from scipy import fftpack\n",
    "from os import listdir\n",
    "import os\n",
    "import IPython.display as ipd\n",
    "\n",
    "import whisper\n",
    "from pydub import AudioSegment\n",
    "import abuse as ab #TAPAD\n",
    "\n",
    "from jiwer import wer\n",
    "import noisereduce as nr\n",
    "import soundfile as sf\n",
    "from transformers import pipeline, AutoTokenizer\n",
    "\n",
    "from pydub.generators import Sine\n",
    "import string"
   ]
  },
  {
   "cell_type": "markdown",
   "id": "ff094ccb",
   "metadata": {},
   "source": [
    "As the application aims to classify the audio as abusive or normal, it is necessary to first obtain a model.\n",
    "The earlier implementation of this application was on a custom build Random-Forest, but the accuracy was poor. Hence, HuggingFace's **Toxic-Bert** is being used instead.\n",
    "Bert has a limit to the size of chunks it can take for processing, so it needs to be divided in chunks and processed."
   ]
  },
  {
   "cell_type": "code",
   "execution_count": 2,
   "id": "fbfd9cd8",
   "metadata": {},
   "outputs": [
    {
     "name": "stdout",
     "output_type": "stream",
     "text": [
      "WARNING:tensorflow:From C:\\Users\\Harman\\AppData\\Local\\Packages\\PythonSoftwareFoundation.Python.3.12_qbz5n2kfra8p0\\LocalCache\\local-packages\\Python312\\site-packages\\tf_keras\\src\\losses.py:2976: The name tf.losses.sparse_softmax_cross_entropy is deprecated. Please use tf.compat.v1.losses.sparse_softmax_cross_entropy instead.\n",
      "\n"
     ]
    },
    {
     "name": "stderr",
     "output_type": "stream",
     "text": [
      "Device set to use cpu\n"
     ]
    }
   ],
   "source": [
    "\n",
    "\n",
    "# Load toxicity classifier and tokenizer\n",
    "# using Huggingface's toxic bert\n",
    "toxicity_classifier = pipeline(\"text-classification\", model=\"unitary/toxic-bert\", top_k=None)\n",
    "tokenizer = AutoTokenizer.from_pretrained(\"unitary/toxic-bert\")\n",
    "\n",
    "def chunk_text_safe(text, tokenizer, max_length=512):\n",
    "    tokens = tokenizer.encode(text, add_special_tokens=False)\n",
    "    chunks = []\n",
    "    # doing in chunks as bert can only predict for a smaller data\n",
    "    for i in range(0, len(tokens), max_length):\n",
    "        chunk = tokens[i:i+max_length]\n",
    "        decoded = tokenizer.decode(chunk, skip_special_tokens=True)\n",
    "        chunks.append(decoded)\n",
    "    return chunks\n"
   ]
  },
  {
   "cell_type": "code",
   "execution_count": 3,
   "id": "a579708b",
   "metadata": {},
   "outputs": [],
   "source": [
    "# using this function for the actual abuse classification on chunks\n",
    "def checkAbuse(test_new):\n",
    "    text_chunks = chunk_text_safe(test_new, tokenizer)\n",
    "\n",
    "    toxicity_results = []\n",
    "\n",
    "    # Process each chunk safely\n",
    "    for i, chunk in enumerate(text_chunks):\n",
    "        try:\n",
    "            result = toxicity_classifier(chunk)\n",
    "            toxicity_results.append(result)\n",
    "            top_label = max(result[0], key=lambda x: x['score'])\n",
    "            if(top_label['score'] < 0.3):\n",
    "            \n",
    "                print(\"Normal audio\")\n",
    "            \n",
    "            else:\n",
    "                print(top_label['label'] + \" audio detected with confidence \" + str(top_label['score']))\n",
    "\n",
    "        except Exception as e:\n",
    "            print(f\"Error in chunk {i+1}: {e}\")\n",
    "    \n"
   ]
  },
  {
   "cell_type": "markdown",
   "id": "f6685f7b",
   "metadata": {},
   "source": [
    "Most of the real-world audio can sound very raw, with noise and other distortions. Hence, it is necessary to pre-process the audio before classification can be done.\n",
    "\n",
    "The first step is to get the RMS, that is the average loudness in the audio (ref: https://medium.com/@poudelnipriyanka/audio-normalization-9dbcedfefcc0). \n",
    "\n",
    "Based on the RMS, the parameters are setup. For lower loudness, less noise reduction is uses as higher values can muffle the audio. Similarly, for higher loudness greater values of top_db and prop_decrease are used.\n",
    "\n",
    "The audio is trimmed to remove silent parts.\n",
    "\n",
    "The trimmed audio is then normalized, and then resampled to 16khz. 16khz because Whisper is mainly trained on audios sampled at 16khz."
   ]
  },
  {
   "cell_type": "code",
   "execution_count": 4,
   "id": "88a1b4ef",
   "metadata": {},
   "outputs": [],
   "source": [
    "# using the function to reduce noise in the audio\n",
    "def denoise_audio(input_path, output_path):\n",
    "    noise_threshold_db = 35\n",
    "    top_db = 25\n",
    "    y, sr = librosa.load(input_path, sr=None)\n",
    "\n",
    "    # Estimate RMS in quiet parts\n",
    "    intervals = librosa.effects.split(y, top_db=25)\n",
    "    non_speech = []\n",
    "    last_end = 0\n",
    "    for start, end in intervals:\n",
    "        if start > last_end:\n",
    "            non_speech.append(y[last_end:start])\n",
    "        last_end = end\n",
    "    non_speech = np.concatenate(non_speech) if non_speech else y[:int(0.5 * sr)]  # fallback: first 0.5s\n",
    "    rms_db = 20 * np.log10(np.sqrt(np.mean(non_speech**2)) + 1e-6)\n",
    "\n",
    "    if rms_db < noise_threshold_db:\n",
    "        # Not very noisy, reduce a small amount\n",
    "        # higher values will make the audio muffled, reducing the transcription accuracy and WER\n",
    "        top_db = 25\n",
    "        prop_decrease = 0.5\n",
    "    else:\n",
    "        # Noisier, stronger reduction\n",
    "        top_db = 35\n",
    "        prop_decrease = 1\n",
    "\n",
    "    y_denoised = nr.reduce_noise(\n",
    "        y=y,\n",
    "        sr=sr,\n",
    "        prop_decrease=prop_decrease,\n",
    "        stationary=False,\n",
    "        n_fft=2048,\n",
    "        win_length=1024,\n",
    "        hop_length=512\n",
    "    )\n",
    "\n",
    "    # Trim silence\n",
    "    y_trimmed, _ = librosa.effects.trim(y_denoised, top_db=top_db)\n",
    "\n",
    "    # Normalize\n",
    "    peak = np.max(np.abs(y_trimmed))\n",
    "    y_normalized = y_trimmed / peak if peak > 0 else y_trimmed\n",
    "\n",
    "    # Resample to 16kHz\n",
    "    y_resampled = librosa.resample(y_normalized, orig_sr=sr, target_sr=16000)\n",
    "\n",
    "    # Save\n",
    "    sf.write(output_path, y_resampled, 16000)\n"
   ]
  },
  {
   "cell_type": "markdown",
   "id": "8240c621",
   "metadata": {},
   "source": [
    "The beep sound for censoring of the abusive terms was generated by a simple sine wave and then place on the start till the end time of the word.\n",
    "The start and end times of the word are found from Whisper model."
   ]
  },
  {
   "cell_type": "code",
   "execution_count": 5,
   "id": "dd7663b6",
   "metadata": {},
   "outputs": [],
   "source": [
    "\n",
    "\n",
    "# using this function to actually censor the cuss words from the audio\n",
    "\n",
    "def beep_out_cuss_words(audio_path, censored_path, words_details, cuss_words):\n",
    "    audio = AudioSegment.from_wav(audio_path)\n",
    "    # checking the data returned from the whisper model\n",
    "    for sentenceInfo in words_details:\n",
    "        \n",
    "        for word_info in sentenceInfo['words']:\n",
    "             # some cuss words end with a . , ? ! which were not matching with the TAPAD dataset, and were not getting censored. Hence had to remove the punctuation\n",
    "            word = word_info['word'].lower().strip(string.punctuation + \" \")\n",
    "            \n",
    "            # Check if the word is a cuss word\n",
    "            if word in cuss_words:\n",
    "                start_ms = int(word_info['start'] * 1000) \n",
    "                end_ms = int(word_info['end'] * 1000) \n",
    "                duration = end_ms - start_ms\n",
    "\n",
    "                # Generate a beep sound with duration\n",
    "                beep = Sine(1000).to_audio_segment(duration=duration).apply_gain(-3)\n",
    "                \n",
    "                # place beep sound on the start\n",
    "                audio = audio[:start_ms] + beep + audio[end_ms:]\n",
    "    \n",
    "    # saving the censored file\n",
    "    audio.export(censored_path, format=\"wav\")\n",
    "    print(f\"✅ Censored audio saved to: {censored_path}\")"
   ]
  },
  {
   "cell_type": "code",
   "execution_count": 6,
   "id": "46e7a03b",
   "metadata": {},
   "outputs": [],
   "source": [
    "CUSS_WORDS = set(ab.ListAllAbuses()) # getting from abuse TAPAD dataset/library\n",
    "# print(CUSS_WORDS)"
   ]
  },
  {
   "cell_type": "markdown",
   "id": "1f787206",
   "metadata": {},
   "source": [
    "The pipeline for the application is in the following manner:\n",
    "1. Find folder noise_tcdvoip\n",
    "2. All audios must be in the folder and the files must be .wav\n",
    "3. The audio_transcribed.csv should have the ground truth transcription for the audio, in-order to calculate the WER. If not included in the .csv file, then WER will not be calculated but the censored audio will be available\n",
    "4. The audio is denoised\n",
    "5. The saved denoised audio is fed to Whisper for transcription\n",
    "6. The audio is then analyzed by Toxic-Bert for abuse classificaion.\n",
    "7. The audio is then censored and saved in censored_audios folder\n",
    "\n",
    "### Disclaimer\n",
    "The audio file angry_204.wav is from dataset audio-based-violence-detection-dataset on Kaggle and was manually translated for ground-truth by me.\n",
    "\n",
    "The audio file audio2.wav is from youtube video https://www.youtube.com/watch?v=-WEIIl5u8FE, the transcription was taken from youtube and manually fixed for ground-truth.\n",
    "\n",
    "The audios curseone.wav cursetwo.wav cursethree.wav normal.wav were recorded by a few friends, and transcribed by them aswell. They allowed me to use these samples for my project."
   ]
  },
  {
   "cell_type": "code",
   "execution_count": 7,
   "id": "a22e8adf",
   "metadata": {},
   "outputs": [
    {
     "name": "stdout",
     "output_type": "stream",
     "text": [
      "\n",
      "📁 angry_204.wav\n"
     ]
    },
    {
     "name": "stderr",
     "output_type": "stream",
     "text": [
      "C:\\Users\\Harman\\AppData\\Local\\Packages\\PythonSoftwareFoundation.Python.3.12_qbz5n2kfra8p0\\LocalCache\\local-packages\\Python312\\site-packages\\whisper\\transcribe.py:126: UserWarning: FP16 is not supported on CPU; using FP32 instead\n",
      "  warnings.warn(\"FP16 is not supported on CPU; using FP32 instead\")\n"
     ]
    },
    {
     "name": "stdout",
     "output_type": "stream",
     "text": [
      "🟠 WER — Noisy: 0.437, Denoised: 0.297\n",
      "toxic audio detected with confidence 0.8940646648406982\n",
      "✅ Censored audio saved to: censored_audio\\censored_angry_204.wav\n",
      "\n",
      "📁 audio2.wav\n"
     ]
    },
    {
     "name": "stderr",
     "output_type": "stream",
     "text": [
      "C:\\Users\\Harman\\AppData\\Local\\Packages\\PythonSoftwareFoundation.Python.3.12_qbz5n2kfra8p0\\LocalCache\\local-packages\\Python312\\site-packages\\whisper\\transcribe.py:126: UserWarning: FP16 is not supported on CPU; using FP32 instead\n",
      "  warnings.warn(\"FP16 is not supported on CPU; using FP32 instead\")\n"
     ]
    },
    {
     "name": "stdout",
     "output_type": "stream",
     "text": [
      "🟠 WER — Noisy: 0.384, Denoised: 0.333\n",
      "toxic audio detected with confidence 0.9687492251396179\n",
      "✅ Censored audio saved to: censored_audio\\censored_audio2.wav\n",
      "\n",
      "📁 curseone.wav\n",
      "🟠 WER — Noisy: 0.278, Denoised: 0.278\n",
      "toxic audio detected with confidence 0.998469889163971\n",
      "✅ Censored audio saved to: censored_audio\\censored_curseone.wav\n",
      "\n",
      "📁 cursethree.wav\n",
      "🟠 WER — Noisy: 0.308, Denoised: 0.308\n",
      "toxic audio detected with confidence 0.9976389408111572\n",
      "✅ Censored audio saved to: censored_audio\\censored_cursethree.wav\n",
      "\n",
      "📁 cursetwo.wav\n",
      "🟠 WER — Noisy: 0.366, Denoised: 0.268\n",
      "toxic audio detected with confidence 0.9981213212013245\n",
      "✅ Censored audio saved to: censored_audio\\censored_cursetwo.wav\n",
      "\n",
      "📁 normal.wav\n",
      "🟠 WER — Noisy: 0.200, Denoised: 0.277\n",
      "Normal audio\n",
      "✅ Censored audio saved to: censored_audio\\censored_normal.wav\n",
      "\n",
      "🔢 Average WER — Noisy: 0.329\n",
      "[0.4366812227074236, 0.38412698412698415, 0.2777777777777778, 0.3076923076923077, 0.36619718309859156, 0.2]\n",
      "🔢 Average WER — Denoised: 0.293\n",
      "[0.29694323144104806, 0.3333333333333333, 0.2777777777777778, 0.3076923076923077, 0.2676056338028169, 0.27692307692307694]\n"
     ]
    }
   ],
   "source": [
    "\n",
    "\n",
    "voip_path = \"noise_tcdvoip\" # folder with the audio file\n",
    "voip_csv = \"audio_transcribed.csv\" # .csv that has the ground-truth transcribed audio\n",
    "\n",
    "\n",
    "\n",
    "# Load the CSV with ground truth transcriptions\n",
    "df = pd.read_csv(voip_csv)\n",
    "ground_truth_map = dict(zip(df['Filename'], df['transcription']))\n",
    "\n",
    "output_dir = \"denoised_audios\"\n",
    "os.makedirs(output_dir, exist_ok=True)\n",
    "\n",
    "os.makedirs(\"censored_audio\", exist_ok=True)\n",
    "# To store WER scores\n",
    "noisy_wers = []\n",
    "denoised_wers = []\n",
    "audio_name = []\n",
    "# Loop over all audio files\n",
    "for filename in os.listdir(voip_path):\n",
    "    if filename.endswith((\".wav\")):\n",
    "        print(f\"\\n📁 {filename}\")\n",
    "        input_path = os.path.join(voip_path, filename)\n",
    "        output_path = os.path.join(output_dir, filename)\n",
    "\n",
    "        try:\n",
    "            # Denoise\n",
    "            denoise_audio(input_path, output_path)\n",
    "\n",
    "            # Transcribe both\n",
    "            whisper_model = whisper.load_model(\"base\")\n",
    "            result_noisy = whisper_model.transcribe(input_path)\n",
    "            result_denoised = whisper_model.transcribe(output_path, word_timestamps=True)\n",
    "\n",
    "            noisy_text = result_noisy['text']\n",
    "            denoised_text = result_denoised['text']\n",
    "            words = result_denoised['segments']\n",
    "\n",
    "            # Only calculate WER if ground truth exists\n",
    "            if filename in ground_truth_map:\n",
    "                \n",
    "                audio_name.append(filename)\n",
    "                ground_truth = ground_truth_map[filename]\n",
    "                wer_noisy = wer(ground_truth, noisy_text)\n",
    "                wer_denoised = wer(ground_truth, denoised_text)\n",
    "                noisy_wers.append(wer_noisy)\n",
    "                denoised_wers.append(wer_denoised)\n",
    "                print(f\"🟠 WER — Noisy: {wer_noisy:.3f}, Denoised: {wer_denoised:.3f}\")\n",
    "            else:\n",
    "                print(\"⚠️  No ground truth available — skipping WER\")\n",
    "\n",
    "            # Abuse detection + Censorship\n",
    "            checkAbuse(denoised_text)\n",
    "            censored_output_path = os.path.join(\"censored_audio\", f\"censored_{filename}\")\n",
    "            beep_out_cuss_words(output_path, censored_output_path, words, CUSS_WORDS)\n",
    "\n",
    "        except Exception as e:\n",
    "            print(f\"❌ Failed to process {filename}: {e}\")\n",
    "\n",
    "\n",
    "\n",
    "print(f\"\\n🔢 Average WER — Noisy: {sum(noisy_wers)/len(noisy_wers):.3f}\")\n",
    "print(noisy_wers)\n",
    "print(f\"🔢 Average WER — Denoised: {sum(denoised_wers)/len(denoised_wers):.3f}\")\n",
    "print(denoised_wers)\n"
   ]
  },
  {
   "cell_type": "code",
   "execution_count": 8,
   "id": "4975130b",
   "metadata": {},
   "outputs": [
    {
     "data": {
      "image/png": "[encoded data removed]",
      "text/plain": [
       "<Figure size 1000x600 with 1 Axes>"
      ]
     },
     "metadata": {},
     "output_type": "display_data"
    }
   ],
   "source": [
    "x_labels = audio_name\n",
    "x = np.arange(len(x_labels))\n",
    "width = 0.35 \n",
    "\n",
    "plt.figure(figsize=(10, 6))\n",
    "plt.bar(x - width/2, noisy_wers, width, label='Noisy', color='red')\n",
    "plt.bar(x + width/2, denoised_wers, width, label='Denoised', color='green')\n",
    "\n",
    "\n",
    "plt.ylabel('Word Error Rate (WER)')\n",
    "plt.xlabel('Audio Samples')\n",
    "plt.title('Grouped Bar Chart: WER for Noisy vs. Denoised Audio')\n",
    "plt.xticks(x, x_labels)\n",
    "plt.ylim(0, 0.45)\n",
    "plt.legend()\n",
    "plt.tight_layout()\n",
    "\n",
    "plt.show()"
   ]
  },
  {
   "cell_type": "markdown",
   "id": "3643367b",
   "metadata": {},
   "source": [
    "# Results:\n",
    "The average WER score is about **0.29**, which is a great improvement from the earlier **0.35** (from the presentation). These improvements were made after I realised that lower amplitide audio was getting muffled during de-noising and had to change the **prop_decrease** and **top_db** parameters to better reduce the noice. RMS was calculated to get the average loudness in the audio.\n",
    "\n",
    "While denoising the audio certainly is helping, the WER scores can be further improved by fine-tuning the parameters for the reduce_noise functions.\n",
    "\n",
    "Noticibaly, a lot of missed transcription is due to punctuation mismatch. These errors were not a big problem, as toxic-bert is able to detect the toxicity in the audio pretty accurately without proper punctuations. Toxic bert has accuracy of about 0.98 (ref: https://dataloop.ai/library/model/unitary_toxic-bert/). \n",
    "\n",
    "While classification poses no issues, WER must be improved for better cuss-word-detection. If such words go un-noticed, they will not be censored and may be heard by the naive audience."
   ]
  }
 ],
 "metadata": {
  "kernelspec": {
   "display_name": "Python 3",
   "language": "python",
   "name": "python3"
  },
  "language_info": {
   "codemirror_mode": {
    "name": "ipython",
    "version": 3
   },
   "file_extension": ".py",
   "mimetype": "text/x-python",
   "name": "python",
   "nbconvert_exporter": "python",
   "pygments_lexer": "ipython3",
   "version": "3.12.10"
  }
 },
 "nbformat": 4,
 "nbformat_minor": 5
}
